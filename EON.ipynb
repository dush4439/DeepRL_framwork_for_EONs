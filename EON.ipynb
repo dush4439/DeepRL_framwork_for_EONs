{
 "cells": [
  {
   "cell_type": "code",
   "execution_count": 8,
   "metadata": {},
   "outputs": [],
   "source": [
    "import numpy as np\n",
    "import heapq"
   ]
  },
  {
   "cell_type": "code",
   "execution_count": 2,
   "metadata": {},
   "outputs": [],
   "source": [
    "def NSF():\n",
    "    topology = np.array([[0, 2100, 3000, np.inf, np.inf, np.inf, np.inf, 4800, np.inf, np.inf, np.inf, np.inf, np.inf, np.inf],\n",
    "                          [2100, 0, 1200, 1500, np.inf, np.inf, np.inf, np.inf, np.inf, np.inf, np.inf, np.inf, np.inf, np.inf],\n",
    "                          [3000, 1200, 0, np.inf, np.inf, 3600, np.inf, np.inf, np.inf, np.inf, np.inf, np.inf, np.inf, np.inf],\n",
    "                          [np.inf, 1500, np.inf, 0, 1200, np.inf, np.inf, np.inf, np.inf, np.inf, 3900, np.inf, np.inf, np.inf],\n",
    "                          [np.inf, np.inf, np.inf, 1200, 0, 2400, 1200, np.inf, np.inf, np.inf, np.inf, np.inf, np.inf, np.inf],\n",
    "                          [np.inf, np.inf, 3600, np.inf, 2400, 0, np.inf, np.inf, np.inf, 2100, np.inf, np.inf, np.inf, 3600],\n",
    "                          [np.inf, np.inf, np.inf, np.inf, 1200, np.inf, 0, 1500, np.inf, 2700, np.inf, np.inf, np.inf, np.inf],\n",
    "                          [4800, np.inf, np.inf, np.inf, np.inf, np.inf, 1500, 0, 1500, np.inf, np.inf, np.inf, np.inf, np.inf],\n",
    "                          [np.inf, np.inf, np.inf, np.inf, np.inf, np.inf, np.inf, 1500, 0, 1500, np.inf, 600, 600, np.inf],\n",
    "                          [np.inf, np.inf, np.inf, np.inf, np.inf, 2100, 2700, np.inf, 1500, 0, np.inf, np.inf, np.inf, np.inf],\n",
    "                          [np.inf, np.inf, np.inf, 3900, np.inf, np.inf, np.inf, np.inf, np.inf, np.inf, 0, 1200, 1500, np.inf],\n",
    "                          [np.inf, np.inf, np.inf, np.inf, np.inf, np.inf, np.inf, np.inf, 600, np.inf, 1200, 0, np.inf, 600],\n",
    "                          [np.inf, np.inf, np.inf, np.inf, np.inf, np.inf, np.inf, np.inf, 600, np.inf, 1500, np.inf, 0, 300],\n",
    "                          [np.inf, np.inf, np.inf, np.inf, np.inf, 3600, np.inf, np.inf, np.inf, np.inf, np.inf, 600, 300, 0]])\n",
    "    \n",
    "    topology = topology / 2\n",
    "    return topology"
   ]
  },
  {
   "cell_type": "code",
   "execution_count": 3,
   "metadata": {},
   "outputs": [],
   "source": [
    "# Call the function to get the topology matrix\n",
    "topology_matrix = NSF()"
   ]
  },
  {
   "cell_type": "code",
   "execution_count": 4,
   "metadata": {},
   "outputs": [],
   "source": [
    "def topology_link(W):\n",
    "    num_nodes = len(W)\n",
    "    link = np.zeros((num_nodes, num_nodes), dtype=int)\n",
    "    linksum = 0\n",
    "    \n",
    "    for i in range(num_nodes):\n",
    "        for j in range(num_nodes):\n",
    "            if W[i, j] != 0 and W[i, j] != np.inf:\n",
    "                linksum += 1\n",
    "                link[i, j] = linksum\n",
    "    \n",
    "    return link, linksum"
   ]
  },
  {
   "cell_type": "code",
   "execution_count": 5,
   "metadata": {},
   "outputs": [
    {
     "name": "stdout",
     "output_type": "stream",
     "text": [
      "Link Matrix:\n",
      "[[ 0  1  2  0  0  0  0  3  0  0  0  0  0  0]\n",
      " [ 4  0  5  6  0  0  0  0  0  0  0  0  0  0]\n",
      " [ 7  8  0  0  0  9  0  0  0  0  0  0  0  0]\n",
      " [ 0 10  0  0 11  0  0  0  0  0 12  0  0  0]\n",
      " [ 0  0  0 13  0 14 15  0  0  0  0  0  0  0]\n",
      " [ 0  0 16  0 17  0  0  0  0 18  0  0  0 19]\n",
      " [ 0  0  0  0 20  0  0 21  0 22  0  0  0  0]\n",
      " [23  0  0  0  0  0 24  0 25  0  0  0  0  0]\n",
      " [ 0  0  0  0  0  0  0 26  0 27  0 28 29  0]\n",
      " [ 0  0  0  0  0 30 31  0 32  0  0  0  0  0]\n",
      " [ 0  0  0 33  0  0  0  0  0  0  0 34 35  0]\n",
      " [ 0  0  0  0  0  0  0  0 36  0 37  0  0 38]\n",
      " [ 0  0  0  0  0  0  0  0 39  0 40  0  0 41]\n",
      " [ 0  0  0  0  0 42  0  0  0  0  0 43 44  0]]\n",
      "Total Number of Links: 44\n"
     ]
    }
   ],
   "source": [
    "W = topology_matrix\n",
    "link_matrix, total_links = topology_link(W)\n",
    "print(\"Link Matrix:\")\n",
    "print(link_matrix)\n",
    "print(\"Total Number of Links:\", total_links)"
   ]
  },
  {
   "cell_type": "code",
   "execution_count": 6,
   "metadata": {},
   "outputs": [],
   "source": [
    "def cost_239():\n",
    "    num_nodes = 11\n",
    "    topology = np.ones((num_nodes, num_nodes)) * np.inf\n",
    "    \n",
    "    for ii in range(num_nodes):\n",
    "        topology[ii, ii] = 0\n",
    "    \n",
    "    # ii=1\n",
    "    topology[0, 1] = 450 * 2\n",
    "    topology[0, 2] = 390 * 2\n",
    "    topology[0, 3] = 550 * 2\n",
    "    topology[0, 7] = 1310 * 2\n",
    "    \n",
    "    # ii=2\n",
    "    topology[1, 2] = 300 * 2\n",
    "    topology[1, 4] = 400 * 2\n",
    "    topology[1, 5] = 600 * 2\n",
    "    topology[1, 6] = 820 * 2\n",
    "    topology[1, 8] = 1090 * 2\n",
    "    \n",
    "    # ii=3\n",
    "    topology[2, 3] = 210 * 2\n",
    "    topology[2, 4] = 220 * 2\n",
    "    topology[2, 6] = 930 * 2\n",
    "    \n",
    "    # ii=4\n",
    "    topology[3, 4] = 390 * 2\n",
    "    topology[3, 7] = 760 * 2\n",
    "    topology[3, 8] = 660 * 2\n",
    "    \n",
    "    # ii=5\n",
    "    topology[4, 5] = 350 * 2\n",
    "    topology[4, 9] = 730 * 2\n",
    "    \n",
    "    # ii=6\n",
    "    topology[5, 6] = 320 * 2\n",
    "    topology[5, 9] = 565 * 2\n",
    "    topology[5, 10] = 730 * 2\n",
    "    \n",
    "    # ii=7\n",
    "    topology[6, 10] = 820 * 2\n",
    "    \n",
    "    # ii=8\n",
    "    topology[7, 8] = 390 * 2\n",
    "    topology[7, 9] = 740 * 2\n",
    "    \n",
    "    # ii=9\n",
    "    topology[8, 9] = 340 * 2\n",
    "    topology[8, 10] = 660 * 2\n",
    "    \n",
    "    # ii=10\n",
    "    topology[9, 10] = 320 * 2\n",
    "    \n",
    "    for ii in range(10):\n",
    "        for jj in range(ii + 1, 11):\n",
    "            topology[jj, ii] = topology[ii, jj]\n",
    "    \n",
    "    return topology"
   ]
  },
  {
   "cell_type": "code",
   "execution_count": 7,
   "metadata": {},
   "outputs": [
    {
     "name": "stdout",
     "output_type": "stream",
     "text": [
      "[[   0.  900.  780. 1100.   inf   inf   inf 2620.   inf   inf   inf]\n",
      " [ 900.    0.  600.   inf  800. 1200. 1640.   inf 2180.   inf   inf]\n",
      " [ 780.  600.    0.  420.  440.   inf 1860.   inf   inf   inf   inf]\n",
      " [1100.   inf  420.    0.  780.   inf   inf 1520. 1320.   inf   inf]\n",
      " [  inf  800.  440.  780.    0.  700.   inf   inf   inf 1460.   inf]\n",
      " [  inf 1200.   inf   inf  700.    0.  640.   inf   inf 1130. 1460.]\n",
      " [  inf 1640. 1860.   inf   inf  640.    0.   inf   inf   inf 1640.]\n",
      " [2620.   inf   inf 1520.   inf   inf   inf    0.  780. 1480.   inf]\n",
      " [  inf 2180.   inf 1320.   inf   inf   inf  780.    0.  680. 1320.]\n",
      " [  inf   inf   inf   inf 1460. 1130.   inf 1480.  680.    0.  640.]\n",
      " [  inf   inf   inf   inf   inf 1460. 1640.   inf 1320.  640.    0.]]\n"
     ]
    }
   ],
   "source": [
    "topology_cost_matrix = cost_239()\n",
    "print(topology_cost_matrix)"
   ]
  },
  {
   "cell_type": "code",
   "execution_count": 9,
   "metadata": {},
   "outputs": [],
   "source": [
    "def dijkstra(netCostMatrix, source, destination):\n",
    "    n = len(netCostMatrix)\n",
    "    distance = [np.inf] * n\n",
    "    parent = [None] * n\n",
    "    visited = [False] * n\n",
    "    \n",
    "    distance[source] = 0\n",
    "    priority_queue = [(0, source)]\n",
    "    \n",
    "    while priority_queue:\n",
    "        dist_u, u = heapq.heappop(priority_queue)\n",
    "        \n",
    "        if visited[u]:\n",
    "            continue\n",
    "        \n",
    "        visited[u] = True\n",
    "        \n",
    "        for v in range(n):\n",
    "            if not visited[v] and netCostMatrix[u, v] != np.inf:\n",
    "                new_dist = dist_u + netCostMatrix[u, v]\n",
    "                if new_dist < distance[v]:\n",
    "                    distance[v] = new_dist\n",
    "                    parent[v] = u\n",
    "                    heapq.heappush(priority_queue, (new_dist, v))\n",
    "    \n",
    "    shortest_path = []\n",
    "    total_cost = distance[destination]\n",
    "    \n",
    "    if parent[destination] is not None:\n",
    "        current_node = destination\n",
    "        while current_node != source:\n",
    "            shortest_path.append(current_node)\n",
    "            current_node = parent[current_node]\n",
    "        shortest_path.append(source)\n",
    "        shortest_path.reverse()\n",
    "    \n",
    "    return shortest_path, total_cost\n"
   ]
  },
  {
   "cell_type": "code",
   "execution_count": 10,
   "metadata": {},
   "outputs": [
    {
     "name": "stdout",
     "output_type": "stream",
     "text": [
      "Shortest Path: [0, 2, 4, 9, 10]\n",
      "Total Cost: 3320.0\n"
     ]
    }
   ],
   "source": [
    "netCostMatrix = topology_cost_matrix\n",
    "source_node = 0\n",
    "destination_node = 10\n",
    "\n",
    "shortest_path, total_cost = dijkstra(netCostMatrix, source_node, destination_node)\n",
    "print(\"Shortest Path:\", shortest_path)\n",
    "print(\"Total Cost:\", total_cost)"
   ]
  },
  {
   "cell_type": "code",
   "execution_count": 11,
   "metadata": {},
   "outputs": [],
   "source": [
    "def cal_len(path, topo):\n",
    "    path_length = 0\n",
    "    for i in range(len(path) - 1):\n",
    "        if topo[path[i], path[i+1]] != np.inf:\n",
    "            path_length += topo[path[i], path[i+1]]\n",
    "        else:\n",
    "            return np.inf  # Return inf if any link is unavailable\n",
    "    return path_length"
   ]
  },
  {
   "cell_type": "code",
   "execution_count": 12,
   "metadata": {},
   "outputs": [
    {
     "name": "stdout",
     "output_type": "stream",
     "text": [
      "Path Length: inf\n"
     ]
    }
   ],
   "source": [
    "path = [0, 2, 4, 9, 10]  # Example path indices (replace with your path)\n",
    "length = cal_len(path, topology_matrix)\n",
    "print(\"Path Length:\", length)"
   ]
  },
  {
   "cell_type": "code",
   "execution_count": 13,
   "metadata": {},
   "outputs": [],
   "source": [
    "def calclink(p, link):\n",
    "    path_link = []\n",
    "    for i in range(len(p) - 1):\n",
    "        a = p[i]\n",
    "        b = p[i + 1]\n",
    "        path_link.append(link[a][b])\n",
    "    return path_link"
   ]
  },
  {
   "cell_type": "code",
   "execution_count": 14,
   "metadata": {},
   "outputs": [
    {
     "name": "stdout",
     "output_type": "stream",
     "text": [
      "Path Links: [1500.0, inf, inf, inf]\n"
     ]
    }
   ],
   "source": [
    "path = [0, 2, 4, 9, 10]  # Example path indices (replace with your path)\n",
    "path_links = calclink(path, topology_matrix)\n",
    "print(\"Path Links:\", path_links)"
   ]
  },
  {
   "cell_type": "code",
   "execution_count": null,
   "metadata": {},
   "outputs": [],
   "source": []
  }
 ],
 "metadata": {
  "kernelspec": {
   "display_name": "Python 3",
   "language": "python",
   "name": "python3"
  },
  "language_info": {
   "codemirror_mode": {
    "name": "ipython",
    "version": 3
   },
   "file_extension": ".py",
   "mimetype": "text/x-python",
   "name": "python",
   "nbconvert_exporter": "python",
   "pygments_lexer": "ipython3",
   "version": "3.11.6"
  },
  "orig_nbformat": 4
 },
 "nbformat": 4,
 "nbformat_minor": 2
}
